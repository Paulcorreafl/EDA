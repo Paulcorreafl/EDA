{
 "cells": [
  {
   "cell_type": "code",
   "execution_count": 3,
   "id": "e0e5becc-350d-43bc-aade-8fb9a2139399",
   "metadata": {},
   "outputs": [],
   "source": [
    "###diamonds_train###"
   ]
  },
  {
   "cell_type": "code",
   "execution_count": 2,
   "id": "e20a79dd-7a9e-42c6-bd14-b6890bb54f1e",
   "metadata": {},
   "outputs": [],
   "source": [
    "import pandas as pd\n",
    "import numpy as np\n",
    "from scipy.stats import trim_mean   # conda install scipy\n",
    "from statsmodels import robust      # conda install -c conda-forge statsmodels \n",
    "import wquantiles                   # pip install wquantiles\n",
    "\n",
    "import seaborn as sns\n",
    "import matplotlib.pylab as plt"
   ]
  },
  {
   "cell_type": "code",
   "execution_count": 6,
   "id": "f21af455-e28c-46a1-abbf-d9aaa61baf00",
   "metadata": {},
   "outputs": [
    {
     "data": {
      "text/html": [
       "<div>\n",
       "<style scoped>\n",
       "    .dataframe tbody tr th:only-of-type {\n",
       "        vertical-align: middle;\n",
       "    }\n",
       "\n",
       "    .dataframe tbody tr th {\n",
       "        vertical-align: top;\n",
       "    }\n",
       "\n",
       "    .dataframe thead th {\n",
       "        text-align: right;\n",
       "    }\n",
       "</style>\n",
       "<table border=\"1\" class=\"dataframe\">\n",
       "  <thead>\n",
       "    <tr style=\"text-align: right;\">\n",
       "      <th></th>\n",
       "      <th>price</th>\n",
       "      <th>carat</th>\n",
       "      <th>city</th>\n",
       "      <th>depth</th>\n",
       "      <th>table</th>\n",
       "      <th>x</th>\n",
       "      <th>y</th>\n",
       "      <th>z</th>\n",
       "      <th>cut</th>\n",
       "      <th>color</th>\n",
       "      <th>clarity</th>\n",
       "    </tr>\n",
       "  </thead>\n",
       "  <tbody>\n",
       "    <tr>\n",
       "      <th>0</th>\n",
       "      <td>4268</td>\n",
       "      <td>1.21</td>\n",
       "      <td>Dubai</td>\n",
       "      <td>62.4</td>\n",
       "      <td>58.0</td>\n",
       "      <td>6.83</td>\n",
       "      <td>6.79</td>\n",
       "      <td>4.25</td>\n",
       "      <td>Premium</td>\n",
       "      <td>J</td>\n",
       "      <td>VS2</td>\n",
       "    </tr>\n",
       "    <tr>\n",
       "      <th>1</th>\n",
       "      <td>505</td>\n",
       "      <td>0.32</td>\n",
       "      <td>Kimberly</td>\n",
       "      <td>63.0</td>\n",
       "      <td>57.0</td>\n",
       "      <td>4.35</td>\n",
       "      <td>4.38</td>\n",
       "      <td>2.75</td>\n",
       "      <td>Very Good</td>\n",
       "      <td>H</td>\n",
       "      <td>VS2</td>\n",
       "    </tr>\n",
       "    <tr>\n",
       "      <th>2</th>\n",
       "      <td>2686</td>\n",
       "      <td>0.71</td>\n",
       "      <td>Las Vegas</td>\n",
       "      <td>65.5</td>\n",
       "      <td>55.0</td>\n",
       "      <td>5.62</td>\n",
       "      <td>5.53</td>\n",
       "      <td>3.65</td>\n",
       "      <td>Fair</td>\n",
       "      <td>G</td>\n",
       "      <td>VS1</td>\n",
       "    </tr>\n",
       "    <tr>\n",
       "      <th>3</th>\n",
       "      <td>738</td>\n",
       "      <td>0.41</td>\n",
       "      <td>Kimberly</td>\n",
       "      <td>63.8</td>\n",
       "      <td>56.0</td>\n",
       "      <td>4.68</td>\n",
       "      <td>4.72</td>\n",
       "      <td>3.00</td>\n",
       "      <td>Good</td>\n",
       "      <td>D</td>\n",
       "      <td>SI1</td>\n",
       "    </tr>\n",
       "    <tr>\n",
       "      <th>4</th>\n",
       "      <td>4882</td>\n",
       "      <td>1.02</td>\n",
       "      <td>Dubai</td>\n",
       "      <td>60.5</td>\n",
       "      <td>59.0</td>\n",
       "      <td>6.55</td>\n",
       "      <td>6.51</td>\n",
       "      <td>3.95</td>\n",
       "      <td>Ideal</td>\n",
       "      <td>G</td>\n",
       "      <td>SI1</td>\n",
       "    </tr>\n",
       "  </tbody>\n",
       "</table>\n",
       "</div>"
      ],
      "text/plain": [
       "   price  carat       city  depth  table     x     y     z        cut color  \\\n",
       "0   4268   1.21      Dubai   62.4   58.0  6.83  6.79  4.25    Premium     J   \n",
       "1    505   0.32   Kimberly   63.0   57.0  4.35  4.38  2.75  Very Good     H   \n",
       "2   2686   0.71  Las Vegas   65.5   55.0  5.62  5.53  3.65       Fair     G   \n",
       "3    738   0.41   Kimberly   63.8   56.0  4.68  4.72  3.00       Good     D   \n",
       "4   4882   1.02      Dubai   60.5   59.0  6.55  6.51  3.95      Ideal     G   \n",
       "\n",
       "  clarity  \n",
       "0     VS2  \n",
       "1     VS2  \n",
       "2     VS1  \n",
       "3     SI1  \n",
       "4     SI1  "
      ]
     },
     "execution_count": 6,
     "metadata": {},
     "output_type": "execute_result"
    }
   ],
   "source": [
    "df_diamonds_train = pd.read_csv('../data/diamonds_train.csv')\n",
    "df_diamonds_train.head()"
   ]
  },
  {
   "cell_type": "code",
   "execution_count": 9,
   "id": "71f75283-9f66-4d46-b969-a3a6c5b156f8",
   "metadata": {},
   "outputs": [
    {
     "name": "stdout",
     "output_type": "stream",
     "text": [
      "Mean: 3928.444469163268\n"
     ]
    }
   ],
   "source": [
    "# Mean\n",
    "mean =df_diamonds_train['price'].mean()\n",
    "\n",
    "print('Mean:', mean)"
   ]
  },
  {
   "cell_type": "code",
   "execution_count": 11,
   "id": "2efb084a-b02b-46b6-a45b-4a8a7048041d",
   "metadata": {},
   "outputs": [
    {
     "name": "stdout",
     "output_type": "stream",
     "text": [
      "Trimmed mean: 3153.22252433184\n"
     ]
    }
   ],
   "source": [
    "# Trimmed mean\n",
    "tmean = trim_mean(df_diamonds_train['price'], 0.1)\n",
    "\n",
    "print('Trimmed mean:', tmean)"
   ]
  },
  {
   "cell_type": "code",
   "execution_count": 61,
   "id": "0b975874-830a-4d85-80ad-06d85cf75999",
   "metadata": {},
   "outputs": [
    {
     "name": "stdout",
     "output_type": "stream",
     "text": [
      "Median: 2397.0\n"
     ]
    }
   ],
   "source": [
    "# Median \n",
    "median = df_diamonds_train['price'].median()\n",
    "\n",
    "print('Median:', median)"
   ]
  },
  {
   "cell_type": "code",
   "execution_count": 64,
   "id": "ae0aba27-37e4-4683-a18b-565ff8627cc5",
   "metadata": {},
   "outputs": [
    {
     "name": "stdout",
     "output_type": "stream",
     "text": [
      "Standard deviation: 3992.4161466170613\n"
     ]
    }
   ],
   "source": [
    "# Standard deviation\n",
    "std_dev = df_diamonds_train['price'].std()\n",
    "\n",
    "print('Standard deviation:', std_dev)"
   ]
  },
  {
   "cell_type": "code",
   "execution_count": 68,
   "id": "e5a46d51-f7ff-485e-9a80-295c5ea567b5",
   "metadata": {},
   "outputs": [
    {
     "name": "stdout",
     "output_type": "stream",
     "text": [
      "Population range: 18497\n"
     ]
    }
   ],
   "source": [
    "# Range\n",
    "diamonds_range = df_diamonds_train['price'].max() - df_diamonds_train['price'].min()\n",
    "\n",
    "\n",
    "print('Population range:', diamonds_range)"
   ]
  },
  {
   "cell_type": "code",
   "execution_count": 70,
   "id": "f1364c9f-4b7e-46e9-86ba-24a90b6184e1",
   "metadata": {},
   "outputs": [
    {
     "data": {
      "text/plain": [
       "18823"
      ]
     },
     "execution_count": 70,
     "metadata": {},
     "output_type": "execute_result"
    }
   ],
   "source": [
    "diamonds_max = df_diamonds_train['price'].max()\n",
    "diamonds_max"
   ]
  },
  {
   "cell_type": "code",
   "execution_count": 72,
   "id": "2107c0b1-9608-438b-abb5-123d7b6f0db4",
   "metadata": {},
   "outputs": [
    {
     "data": {
      "text/plain": [
       "326"
      ]
     },
     "execution_count": 72,
     "metadata": {},
     "output_type": "execute_result"
    }
   ],
   "source": [
    "diamonds_min = df_diamonds_train['price'].min()\n",
    "diamonds_min "
   ]
  },
  {
   "cell_type": "code",
   "execution_count": 149,
   "id": "38c45d91-4156-4a90-baa5-4344f4476948",
   "metadata": {},
   "outputs": [
    {
     "data": {
      "text/html": [
       "<div>\n",
       "<style scoped>\n",
       "    .dataframe tbody tr th:only-of-type {\n",
       "        vertical-align: middle;\n",
       "    }\n",
       "\n",
       "    .dataframe tbody tr th {\n",
       "        vertical-align: top;\n",
       "    }\n",
       "\n",
       "    .dataframe thead th {\n",
       "        text-align: right;\n",
       "    }\n",
       "</style>\n",
       "<table border=\"1\" class=\"dataframe\">\n",
       "  <thead>\n",
       "    <tr style=\"text-align: right;\">\n",
       "      <th></th>\n",
       "      <th>5%</th>\n",
       "      <th>25%</th>\n",
       "      <th>50%</th>\n",
       "      <th>75%</th>\n",
       "      <th>95%</th>\n",
       "    </tr>\n",
       "  </thead>\n",
       "  <tbody>\n",
       "    <tr>\n",
       "      <th>price</th>\n",
       "      <td>544.0</td>\n",
       "      <td>945.0</td>\n",
       "      <td>2397.0</td>\n",
       "      <td>5331.0</td>\n",
       "      <td>13132.0</td>\n",
       "    </tr>\n",
       "  </tbody>\n",
       "</table>\n",
       "</div>"
      ],
      "text/plain": [
       "          5%    25%     50%     75%      95%\n",
       "price  544.0  945.0  2397.0  5331.0  13132.0"
      ]
     },
     "execution_count": 149,
     "metadata": {},
     "output_type": "execute_result"
    }
   ],
   "source": [
    "percentages = [0.05, 0.25, 0.5, 0.75, 0.95]\n",
    "percentiles = df_diamonds_train['price'].quantile(percentages)\n",
    "df = pd.DataFrame(percentiles)\n",
    "df.index = [f'{int(p * 100)}%' for p in percentages]\n",
    "df.transpose()"
   ]
  },
  {
   "cell_type": "code",
   "execution_count": 153,
   "id": "3fcdf466-e9a9-4076-8706-4a3c30ecf47b",
   "metadata": {},
   "outputs": [
    {
     "name": "stdout",
     "output_type": "stream",
     "text": [
      "Variance: 15939386.687768824\n"
     ]
    }
   ],
   "source": [
    "df_diamonds_train['var_price'] = (df_diamonds_train['price'].mean() - df_diamonds_train['price'])**2\n",
    "\n",
    "variance = df_diamonds_train['var_price'].sum() / (len(df_diamonds_train['var_price']) - 1)\n",
    "\n",
    "print('Variance:', variance)"
   ]
  },
  {
   "cell_type": "code",
   "execution_count": null,
   "id": "cf0eb1bd-9678-48c6-b40e-7d18ddf5e102",
   "metadata": {},
   "outputs": [],
   "source": [
    "###carat"
   ]
  },
  {
   "cell_type": "code",
   "execution_count": 118,
   "id": "08aaf4f8-358d-4765-9e8d-713a2035b55b",
   "metadata": {},
   "outputs": [
    {
     "name": "stdout",
     "output_type": "stream",
     "text": [
      "Mean: 0.7977055988134963\n"
     ]
    }
   ],
   "source": [
    "# Mean\n",
    "mean =df_diamonds_train['carat'].mean()\n",
    "\n",
    "print('Mean:', mean)"
   ]
  },
  {
   "cell_type": "code",
   "execution_count": 122,
   "id": "005086fd-9cd4-4cf0-adfb-224392b68b87",
   "metadata": {},
   "outputs": [
    {
     "name": "stdout",
     "output_type": "stream",
     "text": [
      "Trimmed mean: 0.7341171018075081\n"
     ]
    }
   ],
   "source": [
    "# Trimmed mean\n",
    "tmean = trim_mean(df_diamonds_train['carat'], 0.1)\n",
    "\n",
    "print('Trimmed mean:', tmean)"
   ]
  },
  {
   "cell_type": "code",
   "execution_count": 121,
   "id": "d80c9097-d903-4aaa-b25b-5f5c46013f16",
   "metadata": {},
   "outputs": [
    {
     "name": "stdout",
     "output_type": "stream",
     "text": [
      "Median: 0.7\n"
     ]
    }
   ],
   "source": [
    "# Median \n",
    "median = df_diamonds_train['carat'].median()\n",
    "\n",
    "print('Median:', median)"
   ]
  },
  {
   "cell_type": "code",
   "execution_count": 123,
   "id": "cd4ce98f-dd3a-4873-87bb-83bb9b2c6c8e",
   "metadata": {},
   "outputs": [
    {
     "name": "stdout",
     "output_type": "stream",
     "text": [
      "Standard deviation: 0.47554421532468527\n"
     ]
    }
   ],
   "source": [
    "# Standard deviation\n",
    "std_dev = df_diamonds_train['carat'].std()\n",
    "\n",
    "print('Standard deviation:', std_dev)"
   ]
  },
  {
   "cell_type": "code",
   "execution_count": 125,
   "id": "9cd0f6bb-d9de-48b3-8481-16dd94778db5",
   "metadata": {},
   "outputs": [
    {
     "name": "stdout",
     "output_type": "stream",
     "text": [
      "Population range: 4.3\n"
     ]
    }
   ],
   "source": [
    "# Range\n",
    "diamonds_range = df_diamonds_train['carat'].max() - df_diamonds_train['carat'].min()\n",
    "\n",
    "\n",
    "print('Population range:', diamonds_range)"
   ]
  },
  {
   "cell_type": "code",
   "execution_count": 127,
   "id": "5ee8da22-d7c3-4625-918a-1c94b1f4ef96",
   "metadata": {},
   "outputs": [
    {
     "data": {
      "text/plain": [
       "4.5"
      ]
     },
     "execution_count": 127,
     "metadata": {},
     "output_type": "execute_result"
    }
   ],
   "source": [
    "diamonds_max = df_diamonds_train['carat'].max()\n",
    "diamonds_max"
   ]
  },
  {
   "cell_type": "code",
   "execution_count": 126,
   "id": "428a488c-c17e-4967-9a43-d46c3f959ed2",
   "metadata": {},
   "outputs": [
    {
     "data": {
      "text/plain": [
       "0.2"
      ]
     },
     "execution_count": 126,
     "metadata": {},
     "output_type": "execute_result"
    }
   ],
   "source": [
    "diamonds_min = df_diamonds_train['carat'].min()\n",
    "diamonds_min "
   ]
  },
  {
   "cell_type": "code",
   "execution_count": 150,
   "id": "840a2b22-e9a6-4c5c-b8f6-7e0d6385af86",
   "metadata": {},
   "outputs": [
    {
     "data": {
      "text/html": [
       "<div>\n",
       "<style scoped>\n",
       "    .dataframe tbody tr th:only-of-type {\n",
       "        vertical-align: middle;\n",
       "    }\n",
       "\n",
       "    .dataframe tbody tr th {\n",
       "        vertical-align: top;\n",
       "    }\n",
       "\n",
       "    .dataframe thead th {\n",
       "        text-align: right;\n",
       "    }\n",
       "</style>\n",
       "<table border=\"1\" class=\"dataframe\">\n",
       "  <thead>\n",
       "    <tr style=\"text-align: right;\">\n",
       "      <th></th>\n",
       "      <th>5%</th>\n",
       "      <th>25%</th>\n",
       "      <th>50%</th>\n",
       "      <th>75%</th>\n",
       "      <th>95%</th>\n",
       "    </tr>\n",
       "  </thead>\n",
       "  <tbody>\n",
       "    <tr>\n",
       "      <th>carat</th>\n",
       "      <td>0.3</td>\n",
       "      <td>0.4</td>\n",
       "      <td>0.7</td>\n",
       "      <td>1.04</td>\n",
       "      <td>1.71</td>\n",
       "    </tr>\n",
       "  </tbody>\n",
       "</table>\n",
       "</div>"
      ],
      "text/plain": [
       "        5%  25%  50%   75%   95%\n",
       "carat  0.3  0.4  0.7  1.04  1.71"
      ]
     },
     "execution_count": 150,
     "metadata": {},
     "output_type": "execute_result"
    }
   ],
   "source": [
    "percentages = [0.05, 0.25, 0.5, 0.75, 0.95]\n",
    "percentiles = df_diamonds_train['carat'].quantile(percentages)\n",
    "df = pd.DataFrame(percentiles)\n",
    "df.index = [f'{int(p * 100)}%' for p in percentages]\n",
    "df.transpose()"
   ]
  },
  {
   "cell_type": "code",
   "execution_count": 154,
   "id": "920b2950-450b-4ce6-b925-0085c733c4b0",
   "metadata": {},
   "outputs": [
    {
     "name": "stdout",
     "output_type": "stream",
     "text": [
      "Variance: 0.22614230072877511\n"
     ]
    }
   ],
   "source": [
    "df_diamonds_train['var_carat'] = (df_diamonds_train['carat'].mean() - df_diamonds_train['carat'])**2\n",
    "\n",
    "variance = df_diamonds_train['var_carat'].sum() / (len(df_diamonds_train['var_carat']) - 1)\n",
    "\n",
    "print('Variance:', variance)"
   ]
  },
  {
   "cell_type": "code",
   "execution_count": 128,
   "id": "fed0f10c-2b97-473d-bcf9-074ad77ede75",
   "metadata": {},
   "outputs": [],
   "source": [
    "###depth porcentaje en profundidad "
   ]
  },
  {
   "cell_type": "code",
   "execution_count": 130,
   "id": "eb32d85d-64f2-40be-ada8-fcfff5ee9068",
   "metadata": {},
   "outputs": [
    {
     "name": "stdout",
     "output_type": "stream",
     "text": [
      "Mean: 61.752841428748\n"
     ]
    }
   ],
   "source": [
    "mean =df_diamonds_train['depth'].mean()\n",
    "print('Mean:', mean)"
   ]
  },
  {
   "cell_type": "code",
   "execution_count": 129,
   "id": "0a3ba65c-7641-458b-a698-8c81b09b388e",
   "metadata": {},
   "outputs": [
    {
     "name": "stdout",
     "output_type": "stream",
     "text": [
      "Trimmed mean: 61.78612698903136\n"
     ]
    }
   ],
   "source": [
    "# Trimmed mean\n",
    "tmean = trim_mean(df_diamonds_train['depth'], 0.1)\n",
    "\n",
    "print('Trimmed mean:', tmean)"
   ]
  },
  {
   "cell_type": "code",
   "execution_count": 132,
   "id": "575b7b27-1a56-40b1-bede-7abc12e952cf",
   "metadata": {},
   "outputs": [
    {
     "name": "stdout",
     "output_type": "stream",
     "text": [
      "Median: 61.8\n"
     ]
    }
   ],
   "source": [
    "# Median \n",
    "median = df_diamonds_train['depth'].median()\n",
    "\n",
    "print('Median:', median)"
   ]
  },
  {
   "cell_type": "code",
   "execution_count": 133,
   "id": "39993906-65e9-4ad9-985a-cfaf4fe8e680",
   "metadata": {},
   "outputs": [
    {
     "name": "stdout",
     "output_type": "stream",
     "text": [
      "Standard deviation: 1.4317253979077107\n"
     ]
    }
   ],
   "source": [
    "# Standard deviation\n",
    "std_dev = df_diamonds_train['depth'].std()\n",
    "\n",
    "print('Standard deviation:', std_dev)"
   ]
  },
  {
   "cell_type": "code",
   "execution_count": 134,
   "id": "4145def0-5564-4d79-9ff5-606ac0615b40",
   "metadata": {},
   "outputs": [
    {
     "name": "stdout",
     "output_type": "stream",
     "text": [
      "Population range: 36.0\n"
     ]
    }
   ],
   "source": [
    "# Range\n",
    "diamonds_range = df_diamonds_train['depth'].max() - df_diamonds_train['depth'].min()\n",
    "\n",
    "\n",
    "print('Population range:', diamonds_range)"
   ]
  },
  {
   "cell_type": "code",
   "execution_count": 137,
   "id": "b5802af8-6374-4355-bfa1-b047ca6b9002",
   "metadata": {},
   "outputs": [
    {
     "data": {
      "text/plain": [
       "79.0"
      ]
     },
     "execution_count": 137,
     "metadata": {},
     "output_type": "execute_result"
    }
   ],
   "source": [
    "diamonds_max = df_diamonds_train['depth'].max()\n",
    "diamonds_max"
   ]
  },
  {
   "cell_type": "code",
   "execution_count": 138,
   "id": "87fbc34f-cc86-48bb-bf88-a8c030116abb",
   "metadata": {},
   "outputs": [
    {
     "data": {
      "text/plain": [
       "43.0"
      ]
     },
     "execution_count": 138,
     "metadata": {},
     "output_type": "execute_result"
    }
   ],
   "source": [
    "diamonds_min = df_diamonds_train['depth'].min()\n",
    "diamonds_min "
   ]
  },
  {
   "cell_type": "code",
   "execution_count": 151,
   "id": "e0616409-91f7-4314-95ea-f922d840bbb3",
   "metadata": {},
   "outputs": [
    {
     "data": {
      "text/html": [
       "<div>\n",
       "<style scoped>\n",
       "    .dataframe tbody tr th:only-of-type {\n",
       "        vertical-align: middle;\n",
       "    }\n",
       "\n",
       "    .dataframe tbody tr th {\n",
       "        vertical-align: top;\n",
       "    }\n",
       "\n",
       "    .dataframe thead th {\n",
       "        text-align: right;\n",
       "    }\n",
       "</style>\n",
       "<table border=\"1\" class=\"dataframe\">\n",
       "  <thead>\n",
       "    <tr style=\"text-align: right;\">\n",
       "      <th></th>\n",
       "      <th>5%</th>\n",
       "      <th>25%</th>\n",
       "      <th>50%</th>\n",
       "      <th>75%</th>\n",
       "      <th>95%</th>\n",
       "    </tr>\n",
       "  </thead>\n",
       "  <tbody>\n",
       "    <tr>\n",
       "      <th>depth</th>\n",
       "      <td>59.3</td>\n",
       "      <td>61.0</td>\n",
       "      <td>61.8</td>\n",
       "      <td>62.5</td>\n",
       "      <td>63.8</td>\n",
       "    </tr>\n",
       "  </tbody>\n",
       "</table>\n",
       "</div>"
      ],
      "text/plain": [
       "         5%   25%   50%   75%   95%\n",
       "depth  59.3  61.0  61.8  62.5  63.8"
      ]
     },
     "execution_count": 151,
     "metadata": {},
     "output_type": "execute_result"
    }
   ],
   "source": [
    "percentages = [0.05, 0.25, 0.5, 0.75, 0.95]\n",
    "percentiles = df_diamonds_train['depth'].quantile(percentages)\n",
    "df = pd.DataFrame(percentiles)\n",
    "df.index = [f'{int(p * 100)}%' for p in percentages]\n",
    "df.transpose()"
   ]
  },
  {
   "cell_type": "code",
   "execution_count": 155,
   "id": "3664c7fc-458b-4dd2-a248-d5616a609df5",
   "metadata": {},
   "outputs": [
    {
     "name": "stdout",
     "output_type": "stream",
     "text": [
      "Variance: 2.0498376150137294\n"
     ]
    }
   ],
   "source": [
    "df_diamonds_train['var_depth'] = (df_diamonds_train['depth'].mean() - df_diamonds_train['depth'])**2\n",
    "\n",
    "variance = df_diamonds_train['var_depth'].sum() / (len(df_diamonds_train['var_depth']) - 1)\n",
    "\n",
    "print('Variance:', variance)"
   ]
  },
  {
   "cell_type": "code",
   "execution_count": 139,
   "id": "54f67d61-981c-4cd0-8bf0-a3081e51b72f",
   "metadata": {},
   "outputs": [],
   "source": [
    "###table"
   ]
  },
  {
   "cell_type": "code",
   "execution_count": 140,
   "id": "8682e31f-80dd-4cdd-8c72-98eb367d1a27",
   "metadata": {},
   "outputs": [
    {
     "name": "stdout",
     "output_type": "stream",
     "text": [
      "Mean: 57.446132740081566\n"
     ]
    }
   ],
   "source": [
    "mean =df_diamonds_train['table'].mean()\n",
    "print('Mean:', mean)"
   ]
  },
  {
   "cell_type": "code",
   "execution_count": 142,
   "id": "2e58dc19-5106-4995-aea7-5eb493715286",
   "metadata": {},
   "outputs": [
    {
     "name": "stdout",
     "output_type": "stream",
     "text": [
      "Trimmed mean: 57.30735053298316\n"
     ]
    }
   ],
   "source": [
    "# Trimmed mean\n",
    "tmean = trim_mean(df_diamonds_train['table'], 0.1)\n",
    "\n",
    "print('Trimmed mean:', tmean)"
   ]
  },
  {
   "cell_type": "code",
   "execution_count": 143,
   "id": "9de26c3c-3180-4944-bdfc-afebc9405a60",
   "metadata": {},
   "outputs": [
    {
     "name": "stdout",
     "output_type": "stream",
     "text": [
      "Median: 57.0\n"
     ]
    }
   ],
   "source": [
    "# Median \n",
    "median = df_diamonds_train['table'].median()\n",
    "\n",
    "print('Median:', median)"
   ]
  },
  {
   "cell_type": "code",
   "execution_count": 144,
   "id": "f6c8c1ce-20db-4560-b58e-25933e83571e",
   "metadata": {},
   "outputs": [
    {
     "name": "stdout",
     "output_type": "stream",
     "text": [
      "Standard deviation: 2.2335352685810945\n"
     ]
    }
   ],
   "source": [
    "# Standard deviation\n",
    "std_dev = df_diamonds_train['table'].std()\n",
    "\n",
    "print('Standard deviation:', std_dev)"
   ]
  },
  {
   "cell_type": "code",
   "execution_count": 145,
   "id": "99587256-6621-4204-bb13-42d99a9457fe",
   "metadata": {},
   "outputs": [
    {
     "name": "stdout",
     "output_type": "stream",
     "text": [
      "Population range: 52.0\n"
     ]
    }
   ],
   "source": [
    "# Range\n",
    "diamonds_range = df_diamonds_train['table'].max() - df_diamonds_train['table'].min()\n",
    "\n",
    "\n",
    "print('Population range:', diamonds_range)"
   ]
  },
  {
   "cell_type": "code",
   "execution_count": 147,
   "id": "0852e9e8-6d1e-4949-ade8-0bd67065e52b",
   "metadata": {},
   "outputs": [
    {
     "data": {
      "text/plain": [
       "95.0"
      ]
     },
     "execution_count": 147,
     "metadata": {},
     "output_type": "execute_result"
    }
   ],
   "source": [
    "diamonds_max = df_diamonds_train['table'].max()\n",
    "diamonds_max"
   ]
  },
  {
   "cell_type": "code",
   "execution_count": 148,
   "id": "6ba3918b-6936-474e-84af-3b23cde5f5f5",
   "metadata": {},
   "outputs": [
    {
     "data": {
      "text/plain": [
       "43.0"
      ]
     },
     "execution_count": 148,
     "metadata": {},
     "output_type": "execute_result"
    }
   ],
   "source": [
    "diamonds_max = df_diamonds_train['table'].min()\n",
    "diamonds_max"
   ]
  },
  {
   "cell_type": "code",
   "execution_count": 152,
   "id": "0ad02783-37bc-4fa8-add1-e5f02386bac2",
   "metadata": {},
   "outputs": [
    {
     "data": {
      "text/html": [
       "<div>\n",
       "<style scoped>\n",
       "    .dataframe tbody tr th:only-of-type {\n",
       "        vertical-align: middle;\n",
       "    }\n",
       "\n",
       "    .dataframe tbody tr th {\n",
       "        vertical-align: top;\n",
       "    }\n",
       "\n",
       "    .dataframe thead th {\n",
       "        text-align: right;\n",
       "    }\n",
       "</style>\n",
       "<table border=\"1\" class=\"dataframe\">\n",
       "  <thead>\n",
       "    <tr style=\"text-align: right;\">\n",
       "      <th></th>\n",
       "      <th>5%</th>\n",
       "      <th>25%</th>\n",
       "      <th>50%</th>\n",
       "      <th>75%</th>\n",
       "      <th>95%</th>\n",
       "    </tr>\n",
       "  </thead>\n",
       "  <tbody>\n",
       "    <tr>\n",
       "      <th>table</th>\n",
       "      <td>54.0</td>\n",
       "      <td>56.0</td>\n",
       "      <td>57.0</td>\n",
       "      <td>59.0</td>\n",
       "      <td>61.0</td>\n",
       "    </tr>\n",
       "  </tbody>\n",
       "</table>\n",
       "</div>"
      ],
      "text/plain": [
       "         5%   25%   50%   75%   95%\n",
       "table  54.0  56.0  57.0  59.0  61.0"
      ]
     },
     "execution_count": 152,
     "metadata": {},
     "output_type": "execute_result"
    }
   ],
   "source": [
    "percentages = [0.05, 0.25, 0.5, 0.75, 0.95]\n",
    "percentiles = df_diamonds_train['table'].quantile(percentages)\n",
    "df = pd.DataFrame(percentiles)\n",
    "df.index = [f'{int(p * 100)}%' for p in percentages]\n",
    "df.transpose()"
   ]
  },
  {
   "cell_type": "code",
   "execution_count": 156,
   "id": "a9469b82-b2f6-4b1c-ae52-463d173fcba7",
   "metadata": {},
   "outputs": [
    {
     "name": "stdout",
     "output_type": "stream",
     "text": [
      "Variance: 4.9886797959950995\n"
     ]
    }
   ],
   "source": [
    "df_diamonds_train['var_table'] = (df_diamonds_train['table'].mean() - df_diamonds_train['table'])**2\n",
    "\n",
    "variance = df_diamonds_train['var_table'].sum() / (len(df_diamonds_train['var_table']) - 1)\n",
    "\n",
    "print('Variance:', variance)"
   ]
  },
  {
   "cell_type": "code",
   "execution_count": null,
   "id": "e49842c6-4dfb-4626-8f03-cdbd23c4394f",
   "metadata": {},
   "outputs": [],
   "source": [
    "state['dev_population'] = state['Population'].mean() - state['Population']\n",
    "\n",
    "state['dev_murder'] = state['Murder.Rate'].mean() - state['Murder.Rate']\n",
    "\n",
    "print('Population deviation:', state['dev_population'].sum(), '\\nMurder Rate deviation:', state['dev_murder'].sum())\n",
    "\n",
    "state"
   ]
  },
  {
   "cell_type": "code",
   "execution_count": 25,
   "id": "a3c523fb-196e-422d-abc5-b714363ca2da",
   "metadata": {},
   "outputs": [
    {
     "name": "stdout",
     "output_type": "stream",
     "text": [
      "price deviation: -5.6203930398623925e-12 \n",
      "carat: -5.6203930398623925e-12\n"
     ]
    },
    {
     "data": {
      "text/html": [
       "<div>\n",
       "<style scoped>\n",
       "    .dataframe tbody tr th:only-of-type {\n",
       "        vertical-align: middle;\n",
       "    }\n",
       "\n",
       "    .dataframe tbody tr th {\n",
       "        vertical-align: top;\n",
       "    }\n",
       "\n",
       "    .dataframe thead th {\n",
       "        text-align: right;\n",
       "    }\n",
       "</style>\n",
       "<table border=\"1\" class=\"dataframe\">\n",
       "  <thead>\n",
       "    <tr style=\"text-align: right;\">\n",
       "      <th></th>\n",
       "      <th>price</th>\n",
       "      <th>carat</th>\n",
       "      <th>city</th>\n",
       "      <th>depth</th>\n",
       "      <th>table</th>\n",
       "      <th>x</th>\n",
       "      <th>y</th>\n",
       "      <th>z</th>\n",
       "      <th>cut</th>\n",
       "      <th>color</th>\n",
       "      <th>clarity</th>\n",
       "      <th>dev_price</th>\n",
       "      <th>dev_carat</th>\n",
       "    </tr>\n",
       "  </thead>\n",
       "  <tbody>\n",
       "    <tr>\n",
       "      <th>0</th>\n",
       "      <td>4268</td>\n",
       "      <td>1.21</td>\n",
       "      <td>Dubai</td>\n",
       "      <td>62.4</td>\n",
       "      <td>58.0</td>\n",
       "      <td>6.83</td>\n",
       "      <td>6.79</td>\n",
       "      <td>4.25</td>\n",
       "      <td>Premium</td>\n",
       "      <td>J</td>\n",
       "      <td>VS2</td>\n",
       "      <td>-339.555531</td>\n",
       "      <td>-0.412294</td>\n",
       "    </tr>\n",
       "    <tr>\n",
       "      <th>1</th>\n",
       "      <td>505</td>\n",
       "      <td>0.32</td>\n",
       "      <td>Kimberly</td>\n",
       "      <td>63.0</td>\n",
       "      <td>57.0</td>\n",
       "      <td>4.35</td>\n",
       "      <td>4.38</td>\n",
       "      <td>2.75</td>\n",
       "      <td>Very Good</td>\n",
       "      <td>H</td>\n",
       "      <td>VS2</td>\n",
       "      <td>3423.444469</td>\n",
       "      <td>0.477706</td>\n",
       "    </tr>\n",
       "    <tr>\n",
       "      <th>2</th>\n",
       "      <td>2686</td>\n",
       "      <td>0.71</td>\n",
       "      <td>Las Vegas</td>\n",
       "      <td>65.5</td>\n",
       "      <td>55.0</td>\n",
       "      <td>5.62</td>\n",
       "      <td>5.53</td>\n",
       "      <td>3.65</td>\n",
       "      <td>Fair</td>\n",
       "      <td>G</td>\n",
       "      <td>VS1</td>\n",
       "      <td>1242.444469</td>\n",
       "      <td>0.087706</td>\n",
       "    </tr>\n",
       "    <tr>\n",
       "      <th>3</th>\n",
       "      <td>738</td>\n",
       "      <td>0.41</td>\n",
       "      <td>Kimberly</td>\n",
       "      <td>63.8</td>\n",
       "      <td>56.0</td>\n",
       "      <td>4.68</td>\n",
       "      <td>4.72</td>\n",
       "      <td>3.00</td>\n",
       "      <td>Good</td>\n",
       "      <td>D</td>\n",
       "      <td>SI1</td>\n",
       "      <td>3190.444469</td>\n",
       "      <td>0.387706</td>\n",
       "    </tr>\n",
       "    <tr>\n",
       "      <th>4</th>\n",
       "      <td>4882</td>\n",
       "      <td>1.02</td>\n",
       "      <td>Dubai</td>\n",
       "      <td>60.5</td>\n",
       "      <td>59.0</td>\n",
       "      <td>6.55</td>\n",
       "      <td>6.51</td>\n",
       "      <td>3.95</td>\n",
       "      <td>Ideal</td>\n",
       "      <td>G</td>\n",
       "      <td>SI1</td>\n",
       "      <td>-953.555531</td>\n",
       "      <td>-0.222294</td>\n",
       "    </tr>\n",
       "    <tr>\n",
       "      <th>...</th>\n",
       "      <td>...</td>\n",
       "      <td>...</td>\n",
       "      <td>...</td>\n",
       "      <td>...</td>\n",
       "      <td>...</td>\n",
       "      <td>...</td>\n",
       "      <td>...</td>\n",
       "      <td>...</td>\n",
       "      <td>...</td>\n",
       "      <td>...</td>\n",
       "      <td>...</td>\n",
       "      <td>...</td>\n",
       "      <td>...</td>\n",
       "    </tr>\n",
       "    <tr>\n",
       "      <th>40450</th>\n",
       "      <td>10070</td>\n",
       "      <td>1.34</td>\n",
       "      <td>Antwerp</td>\n",
       "      <td>62.7</td>\n",
       "      <td>57.0</td>\n",
       "      <td>7.10</td>\n",
       "      <td>7.04</td>\n",
       "      <td>4.43</td>\n",
       "      <td>Ideal</td>\n",
       "      <td>G</td>\n",
       "      <td>VS1</td>\n",
       "      <td>-6141.555531</td>\n",
       "      <td>-0.542294</td>\n",
       "    </tr>\n",
       "    <tr>\n",
       "      <th>40451</th>\n",
       "      <td>12615</td>\n",
       "      <td>2.02</td>\n",
       "      <td>Madrid</td>\n",
       "      <td>57.1</td>\n",
       "      <td>60.0</td>\n",
       "      <td>8.31</td>\n",
       "      <td>8.25</td>\n",
       "      <td>4.73</td>\n",
       "      <td>Good</td>\n",
       "      <td>F</td>\n",
       "      <td>SI2</td>\n",
       "      <td>-8686.555531</td>\n",
       "      <td>-1.222294</td>\n",
       "    </tr>\n",
       "    <tr>\n",
       "      <th>40452</th>\n",
       "      <td>5457</td>\n",
       "      <td>1.01</td>\n",
       "      <td>Kimberly</td>\n",
       "      <td>62.7</td>\n",
       "      <td>56.0</td>\n",
       "      <td>6.37</td>\n",
       "      <td>6.42</td>\n",
       "      <td>4.01</td>\n",
       "      <td>Ideal</td>\n",
       "      <td>H</td>\n",
       "      <td>SI1</td>\n",
       "      <td>-1528.555531</td>\n",
       "      <td>-0.212294</td>\n",
       "    </tr>\n",
       "    <tr>\n",
       "      <th>40453</th>\n",
       "      <td>456</td>\n",
       "      <td>0.33</td>\n",
       "      <td>Kimberly</td>\n",
       "      <td>61.9</td>\n",
       "      <td>54.3</td>\n",
       "      <td>4.45</td>\n",
       "      <td>4.47</td>\n",
       "      <td>2.76</td>\n",
       "      <td>Ideal</td>\n",
       "      <td>J</td>\n",
       "      <td>VS1</td>\n",
       "      <td>3472.444469</td>\n",
       "      <td>0.467706</td>\n",
       "    </tr>\n",
       "    <tr>\n",
       "      <th>40454</th>\n",
       "      <td>6232</td>\n",
       "      <td>1.24</td>\n",
       "      <td>London</td>\n",
       "      <td>62.0</td>\n",
       "      <td>58.0</td>\n",
       "      <td>6.83</td>\n",
       "      <td>6.88</td>\n",
       "      <td>4.25</td>\n",
       "      <td>Ideal</td>\n",
       "      <td>I</td>\n",
       "      <td>SI1</td>\n",
       "      <td>-2303.555531</td>\n",
       "      <td>-0.442294</td>\n",
       "    </tr>\n",
       "  </tbody>\n",
       "</table>\n",
       "<p>40455 rows × 13 columns</p>\n",
       "</div>"
      ],
      "text/plain": [
       "       price  carat       city  depth  table     x     y     z        cut  \\\n",
       "0       4268   1.21      Dubai   62.4   58.0  6.83  6.79  4.25    Premium   \n",
       "1        505   0.32   Kimberly   63.0   57.0  4.35  4.38  2.75  Very Good   \n",
       "2       2686   0.71  Las Vegas   65.5   55.0  5.62  5.53  3.65       Fair   \n",
       "3        738   0.41   Kimberly   63.8   56.0  4.68  4.72  3.00       Good   \n",
       "4       4882   1.02      Dubai   60.5   59.0  6.55  6.51  3.95      Ideal   \n",
       "...      ...    ...        ...    ...    ...   ...   ...   ...        ...   \n",
       "40450  10070   1.34    Antwerp   62.7   57.0  7.10  7.04  4.43      Ideal   \n",
       "40451  12615   2.02     Madrid   57.1   60.0  8.31  8.25  4.73       Good   \n",
       "40452   5457   1.01   Kimberly   62.7   56.0  6.37  6.42  4.01      Ideal   \n",
       "40453    456   0.33   Kimberly   61.9   54.3  4.45  4.47  2.76      Ideal   \n",
       "40454   6232   1.24     London   62.0   58.0  6.83  6.88  4.25      Ideal   \n",
       "\n",
       "      color clarity    dev_price  dev_carat  \n",
       "0         J     VS2  -339.555531  -0.412294  \n",
       "1         H     VS2  3423.444469   0.477706  \n",
       "2         G     VS1  1242.444469   0.087706  \n",
       "3         D     SI1  3190.444469   0.387706  \n",
       "4         G     SI1  -953.555531  -0.222294  \n",
       "...     ...     ...          ...        ...  \n",
       "40450     G     VS1 -6141.555531  -0.542294  \n",
       "40451     F     SI2 -8686.555531  -1.222294  \n",
       "40452     H     SI1 -1528.555531  -0.212294  \n",
       "40453     J     VS1  3472.444469   0.467706  \n",
       "40454     I     SI1 -2303.555531  -0.442294  \n",
       "\n",
       "[40455 rows x 13 columns]"
      ]
     },
     "execution_count": 25,
     "metadata": {},
     "output_type": "execute_result"
    }
   ],
   "source": [
    "df_diamonds_train['dev_price'] = df_diamonds_train['price'].mean() - df_diamonds_train['price']\n",
    "\n",
    "df_diamonds_train['dev_carat'] = df_diamonds_train['carat'].mean() - df_diamonds_train['carat']\n",
    "\n",
    "print('price deviation:', df_diamonds_train['dev_carat'].sum(), '\\ncarat:', df_diamonds_train['dev_carat'].sum())\n",
    "\n",
    "df_diamonds_train"
   ]
  },
  {
   "cell_type": "code",
   "execution_count": null,
   "id": "bd6f695d-527c-41f9-a36c-a886c4d1be0e",
   "metadata": {},
   "outputs": [],
   "source": [
    "state['mean_dev_population'] = abs(state['Population'].mean() - state['Population'])\n",
    "\n",
    "state['mean_dev_murder'] = abs(state['Murder.Rate'].mean() - state['Murder.Rate'])\n",
    "\n",
    "print('Population mean absolute deviation:', state['mean_dev_population'].sum() / len(state['mean_dev_population']),\n",
    "      '\\nMurder Rate absolute deviation deviation:', state['mean_dev_murder'].sum() / len(state['mean_dev_murder']))\n",
    "\n",
    "state"
   ]
  },
  {
   "cell_type": "code",
   "execution_count": 39,
   "id": "8dea474a-8acb-4261-a7cc-048fbd3b1ef9",
   "metadata": {},
   "outputs": [
    {
     "name": "stdout",
     "output_type": "stream",
     "text": [
      "price mean absolute deviation: -1.7409781165565583e-13 \n",
      "carat Rate absolute deviation deviation: 0.385912540110232\n"
     ]
    }
   ],
   "source": [
    "df_diamonds_train['mean_dev_price'] = abs(df_diamonds_train['price'].mean() - df_diamonds_train['price'])\n",
    "\n",
    "df_diamonds_train['mean_dev_carat'] = abs(df_diamonds_train['carat'].mean() - df_diamonds_train['carat'])\n",
    "\n",
    "print('price mean absolute deviation:', df_diamonds_train['dev_price'].sum() / len(df_diamonds_train['mean_dev_price']),\n",
    "       '\\ncarat Rate absolute deviation deviation:', df_diamonds_train['mean_dev_carat'].sum() / len(df_diamonds_train['mean_dev_carat']))\n"
   ]
  },
  {
   "cell_type": "code",
   "execution_count": 41,
   "id": "b366429e-709e-4e93-ab16-a64b39d857bd",
   "metadata": {},
   "outputs": [
    {
     "name": "stdout",
     "output_type": "stream",
     "text": [
      "Variance: 15939386.687768824\n"
     ]
    }
   ],
   "source": [
    "df_diamonds_train['var_price'] = (df_diamonds_train['price'].mean() - df_diamonds_train['price'])**2\n",
    "\n",
    "variance = df_diamonds_train['var_price'].sum() / (len(df_diamonds_train['var_price']) - 1)\n",
    "\n",
    "print('Variance:', variance)"
   ]
  },
  {
   "cell_type": "code",
   "execution_count": 42,
   "id": "319829d7-38e0-415f-bd0d-5779535a8b01",
   "metadata": {},
   "outputs": [
    {
     "name": "stdout",
     "output_type": "stream",
     "text": [
      "Variance: 0.22614230072877511\n"
     ]
    }
   ],
   "source": [
    "df_diamonds_train['var_carat'] = (df_diamonds_train['carat'].mean() - df_diamonds_train['carat'])**2\n",
    "\n",
    "variance = df_diamonds_train['var_carat'].sum() / (len(df_diamonds_train['var_carat']) - 1)\n",
    "\n",
    "print('Variance:', variance)"
   ]
  },
  {
   "cell_type": "code",
   "execution_count": 44,
   "id": "b683434a-5020-4db3-96f6-7a6e1755685a",
   "metadata": {},
   "outputs": [
    {
     "name": "stdout",
     "output_type": "stream",
     "text": [
      "Standard deviation: 3992.4161466170613\n"
     ]
    }
   ],
   "source": [
    "\n",
    "std_dev = df_diamonds_train['price'].std()\n",
    "\n",
    "print('Standard deviation:', std_dev)"
   ]
  },
  {
   "cell_type": "code",
   "execution_count": 45,
   "id": "1f67262e-aa02-413e-9188-d79f4591c645",
   "metadata": {},
   "outputs": [
    {
     "name": "stdout",
     "output_type": "stream",
     "text": [
      "Standard deviation: 0.47554421532468527\n"
     ]
    }
   ],
   "source": [
    "\n",
    "std_dev = df_diamonds_train['carat'].std()\n",
    "\n",
    "print('Standard deviation:', std_dev)"
   ]
  },
  {
   "cell_type": "code",
   "execution_count": 49,
   "id": "42586cee-46bf-42b9-972c-497d76496a85",
   "metadata": {},
   "outputs": [
    {
     "data": {
      "text/html": [
       "<div>\n",
       "<style scoped>\n",
       "    .dataframe tbody tr th:only-of-type {\n",
       "        vertical-align: middle;\n",
       "    }\n",
       "\n",
       "    .dataframe tbody tr th {\n",
       "        vertical-align: top;\n",
       "    }\n",
       "\n",
       "    .dataframe thead th {\n",
       "        text-align: right;\n",
       "    }\n",
       "</style>\n",
       "<table border=\"1\" class=\"dataframe\">\n",
       "  <thead>\n",
       "    <tr style=\"text-align: right;\">\n",
       "      <th></th>\n",
       "      <th>carat</th>\n",
       "      <th>price</th>\n",
       "    </tr>\n",
       "  </thead>\n",
       "  <tbody>\n",
       "    <tr>\n",
       "      <th>0</th>\n",
       "      <td>0.21</td>\n",
       "      <td>326</td>\n",
       "    </tr>\n",
       "    <tr>\n",
       "      <th>1</th>\n",
       "      <td>0.23</td>\n",
       "      <td>326</td>\n",
       "    </tr>\n",
       "    <tr>\n",
       "      <th>2</th>\n",
       "      <td>0.23</td>\n",
       "      <td>327</td>\n",
       "    </tr>\n",
       "    <tr>\n",
       "      <th>3</th>\n",
       "      <td>0.29</td>\n",
       "      <td>334</td>\n",
       "    </tr>\n",
       "    <tr>\n",
       "      <th>4</th>\n",
       "      <td>0.31</td>\n",
       "      <td>335</td>\n",
       "    </tr>\n",
       "    <tr>\n",
       "      <th>...</th>\n",
       "      <td>...</td>\n",
       "      <td>...</td>\n",
       "    </tr>\n",
       "    <tr>\n",
       "      <th>40450</th>\n",
       "      <td>2.00</td>\n",
       "      <td>18795</td>\n",
       "    </tr>\n",
       "    <tr>\n",
       "      <th>40451</th>\n",
       "      <td>2.29</td>\n",
       "      <td>18797</td>\n",
       "    </tr>\n",
       "    <tr>\n",
       "      <th>40452</th>\n",
       "      <td>1.51</td>\n",
       "      <td>18806</td>\n",
       "    </tr>\n",
       "    <tr>\n",
       "      <th>40453</th>\n",
       "      <td>2.00</td>\n",
       "      <td>18818</td>\n",
       "    </tr>\n",
       "    <tr>\n",
       "      <th>40454</th>\n",
       "      <td>2.29</td>\n",
       "      <td>18823</td>\n",
       "    </tr>\n",
       "  </tbody>\n",
       "</table>\n",
       "<p>40455 rows × 2 columns</p>\n",
       "</div>"
      ],
      "text/plain": [
       "       carat  price\n",
       "0       0.21    326\n",
       "1       0.23    326\n",
       "2       0.23    327\n",
       "3       0.29    334\n",
       "4       0.31    335\n",
       "...      ...    ...\n",
       "40450   2.00  18795\n",
       "40451   2.29  18797\n",
       "40452   1.51  18806\n",
       "40453   2.00  18818\n",
       "40454   2.29  18823\n",
       "\n",
       "[40455 rows x 2 columns]"
      ]
     },
     "execution_count": 49,
     "metadata": {},
     "output_type": "execute_result"
    }
   ],
   "source": [
    "feature = 'price'\n",
    "\n",
    "order_data = df_diamonds_train[['carat', feature]].sort_values(by=[feature]).reset_index(drop=True)\n",
    "\n",
    "order_data"
   ]
  },
  {
   "cell_type": "code",
   "execution_count": 57,
   "id": "ee1f63d7-afaf-4b11-ba58-34a248dbd1d4",
   "metadata": {},
   "outputs": [
    {
     "name": "stdout",
     "output_type": "stream",
     "text": [
      "price range: 18497 \n",
      "carat range: 4.3\n"
     ]
    }
   ],
   "source": [
    "price_range = df_diamonds_train['price'].max() - df_diamonds_train['price'].min()\n",
    "\n",
    "carat_range = df_diamonds_train['carat'].max() - df_diamonds_train['carat'].min()\n",
    "\n",
    "print('price range:', price_range, '\\ncarat range:', carat_range)"
   ]
  },
  {
   "cell_type": "code",
   "execution_count": null,
   "id": "217ca2c0-0807-4b32-8921-f1e2f982be38",
   "metadata": {},
   "outputs": [],
   "source": []
  },
  {
   "cell_type": "code",
   "execution_count": 73,
   "id": "6a29d0db-10c4-4779-8153-6c1c32de0f50",
   "metadata": {},
   "outputs": [
    {
     "data": {
      "text/html": [
       "<div>\n",
       "<style scoped>\n",
       "    .dataframe tbody tr th:only-of-type {\n",
       "        vertical-align: middle;\n",
       "    }\n",
       "\n",
       "    .dataframe tbody tr th {\n",
       "        vertical-align: top;\n",
       "    }\n",
       "\n",
       "    .dataframe thead th {\n",
       "        text-align: right;\n",
       "    }\n",
       "</style>\n",
       "<table border=\"1\" class=\"dataframe\">\n",
       "  <thead>\n",
       "    <tr style=\"text-align: right;\">\n",
       "      <th></th>\n",
       "      <th>5%</th>\n",
       "      <th>25%</th>\n",
       "      <th>50%</th>\n",
       "      <th>75%</th>\n",
       "      <th>95%</th>\n",
       "    </tr>\n",
       "  </thead>\n",
       "  <tbody>\n",
       "    <tr>\n",
       "      <th>price</th>\n",
       "      <td>544.0</td>\n",
       "      <td>945.0</td>\n",
       "      <td>2397.0</td>\n",
       "      <td>5331.0</td>\n",
       "      <td>13132.0</td>\n",
       "    </tr>\n",
       "  </tbody>\n",
       "</table>\n",
       "</div>"
      ],
      "text/plain": [
       "          5%    25%     50%     75%      95%\n",
       "price  544.0  945.0  2397.0  5331.0  13132.0"
      ]
     },
     "execution_count": 73,
     "metadata": {},
     "output_type": "execute_result"
    }
   ],
   "source": [
    "# Percentiles table (equal-count bins). Quartiles and Deciles are usually used.\n",
    "\n",
    "percentages = [0.05, 0.25, 0.5, 0.75, 0.95]\n",
    "percentiles = df_diamonds_train['price'].quantile(percentages)\n",
    "df = pd.DataFrame(percentiles)\n",
    "df.index = [f'{int(p * 100)}%' for p in percentages]\n",
    "df.transpose()"
   ]
  },
  {
   "cell_type": "code",
   "execution_count": 116,
   "id": "0c8ea0ad-9091-43d6-b11e-b72d4809d599",
   "metadata": {},
   "outputs": [],
   "source": [
    "###stats_exploratory_data_analysis_eda.###"
   ]
  },
  {
   "cell_type": "code",
   "execution_count": 117,
   "id": "ff1bca62-568e-4658-a773-9b8228e76cb9",
   "metadata": {},
   "outputs": [
    {
     "data": {
      "image/png": "[encoded data removed]",
      "text/plain": [
       "<Figure size 500x800 with 1 Axes>"
      ]
     },
     "metadata": {},
     "output_type": "display_data"
    }
   ],
   "source": [
    "data = df_diamonds_train['price']\n",
    "ax = data.plot.box(figsize=(5, 8))\n",
    "ax.set_ylabel('diamantes')\n",
    "plt.tight_layout()\n",
    "plt.grid()\n",
    "plt.show()"
   ]
  },
  {
   "cell_type": "code",
   "execution_count": 97,
   "id": "e131b5ec-29c2-47f3-b09b-7686629c0377",
   "metadata": {},
   "outputs": [
    {
     "data": {
      "text/plain": [
       "0     (4025.4, 5875.1]\n",
       "1    (307.503, 2175.7]\n",
       "2     (2175.7, 4025.4]\n",
       "3    (307.503, 2175.7]\n",
       "4     (4025.4, 5875.1]\n",
       "Name: price, dtype: category\n",
       "Categories (10, interval[float64, right]): [(307.503, 2175.7] < (2175.7, 4025.4] < (4025.4, 5875.1] < (5875.1, 7724.8] ... (11424.2, 13273.9] < (13273.9, 15123.6] < (15123.6, 16973.3] < (16973.3, 18823.0]]"
      ]
     },
     "execution_count": 97,
     "metadata": {},
     "output_type": "execute_result"
    }
   ],
   "source": [
    "# Frequency table (equal-size bins)\n",
    "binneddiamonds =pd.cut(df_diamonds_train['price'], 10)\n",
    "\n",
    "binneddiamonds.head()"
   ]
  },
  {
   "cell_type": "code",
   "execution_count": 85,
   "id": "e0546d00-33a2-4c97-8f7c-c463d00c9ed9",
   "metadata": {},
   "outputs": [
    {
     "data": {
      "text/plain": [
       "(307.503, 2175.7]     19045\n",
       "(2175.7, 4025.4]       6979\n",
       "(4025.4, 5875.1]       5526\n",
       "(5875.1, 7724.8]       2896\n",
       "(7724.8, 9574.5]       1772\n",
       "(9574.5, 11424.2]      1323\n",
       "(11424.2, 13273.9]      960\n",
       "(13273.9, 15123.6]      762\n",
       "(15123.6, 16973.3]      642\n",
       "(16973.3, 18823.0]      550\n",
       "Name: price, dtype: int64"
      ]
     },
     "execution_count": 85,
     "metadata": {},
     "output_type": "execute_result"
    }
   ],
   "source": [
    "binneddiamonds.value_counts()"
   ]
  },
  {
   "cell_type": "code",
   "execution_count": 96,
   "id": "d3a0c519-df9b-4218-9fcc-03cef0fb2be4",
   "metadata": {},
   "outputs": [
    {
     "data": {
      "image/png": "[encoded data removed]",
      "text/plain": [
       "<Figure size 1200x800 with 1 Axes>"
      ]
     },
     "metadata": {},
     "output_type": "display_data"
    }
   ],
   "source": [
    "# Histogram (or plotting the frequency table)\n",
    "data = df_diamonds_train['price']\n",
    "ax = data.plot.hist(figsize=(12, 8))\n",
    "#ax.set_xlabel('Population (millions)')\n",
    "ax.set_xlabel('valor diamantes')\n",
    "plt.tight_layout()"
   ]
  },
  {
   "cell_type": "code",
   "execution_count": 99,
   "id": "14bbf989-1faf-4658-8945-b690f7a19f8a",
   "metadata": {},
   "outputs": [
    {
     "data": {
      "image/png": "[encoded data removed]",
      "text/plain": [
       "<Figure size 1200x800 with 1 Axes>"
      ]
     },
     "metadata": {},
     "output_type": "display_data"
    }
   ],
   "source": [
    "# Density plot calculated from data using a kernel density estimate implementation (area under the curve == 1)\n",
    "ax = data.plot.hist(density=True,\n",
    "                    #xlim=[0, 12], \n",
    "                    #bins=range(1,12),\n",
    "                    figsize=(12, 8))\n",
    "data.plot.density(ax=ax)\n",
    "#ax.set_xlabel('Population (millions)')\n",
    "ax.set_xlabel('valor diamantes')\n",
    "plt.tight_layout()"
   ]
  },
  {
   "cell_type": "code",
   "execution_count": 166,
   "id": "89dc4234-7ed6-4501-ade9-e878a04a53c1",
   "metadata": {},
   "outputs": [
    {
     "data": {
      "image/png": "[encoded data removed]",
      "text/plain": [
       "<Figure size 500x800 with 1 Axes>"
      ]
     },
     "metadata": {},
     "output_type": "display_data"
    }
   ],
   "source": [
    "data1 = df_diamonds_train['carat']\n",
    "ax = data1.plot.box(figsize=(5, 8))\n",
    "ax.set_ylabel('diamantes')\n",
    "plt.tight_layout()\n",
    "plt.grid()\n",
    "plt.show()"
   ]
  },
  {
   "cell_type": "code",
   "execution_count": 169,
   "id": "31716bc1-d1d9-42c0-b97a-6fbf5c0af6cc",
   "metadata": {},
   "outputs": [
    {
     "data": {
      "image/png": "[encoded data removed]",
      "text/plain": [
       "<Figure size 1200x800 with 1 Axes>"
      ]
     },
     "metadata": {},
     "output_type": "display_data"
    }
   ],
   "source": [
    "data1 = df_diamonds_train['carat']\n",
    "ax = data1.plot.hist(figsize=(12, 8))\n",
    "#ax.set_xlabel('Population (millions)')\n",
    "ax.set_xlabel('valor diamantes')\n",
    "plt.tight_layout()"
   ]
  },
  {
   "cell_type": "code",
   "execution_count": 172,
   "id": "e5709203-eb2a-420e-919f-31df7f102d19",
   "metadata": {},
   "outputs": [
    {
     "data": {
      "image/png": "[encoded data removed]",
      "text/plain": [
       "<Figure size 1200x800 with 1 Axes>"
      ]
     },
     "metadata": {},
     "output_type": "display_data"
    }
   ],
   "source": [
    "# Density plot calculated from data using a kernel density estimate implementation (area under the curve == 1)\n",
    "ax = data1.plot.hist(density=True,\n",
    "                    #xlim=[0, 12], \n",
    "                    #bins=range(1,12),\n",
    "                    figsize=(12, 8))\n",
    "data1.plot.density(ax=ax)\n",
    "#ax.set_xlabel('Population (millions)')\n",
    "ax.set_xlabel('valor diamantes')\n",
    "plt.tight_layout()"
   ]
  },
  {
   "cell_type": "code",
   "execution_count": 163,
   "id": "e58d3a38-84ce-467a-8401-ac02c68f7c73",
   "metadata": {},
   "outputs": [
    {
     "data": {
      "image/png": "[encoded data removed]",
      "text/plain": [
       "<Figure size 500x800 with 1 Axes>"
      ]
     },
     "metadata": {},
     "output_type": "display_data"
    }
   ],
   "source": [
    "data2 = df_diamonds_train['depth']\n",
    "ax = data2.plot.box(figsize=(5, 8))\n",
    "ax.set_ylabel('diamantes')\n",
    "plt.tight_layout()\n",
    "plt.grid()\n",
    "plt.show()"
   ]
  },
  {
   "cell_type": "code",
   "execution_count": 164,
   "id": "7721813e-b73d-4583-9a1b-90ad8ff50e5d",
   "metadata": {},
   "outputs": [
    {
     "data": {
      "image/png": "[encoded data removed]",
      "text/plain": [
       "<Figure size 1200x800 with 1 Axes>"
      ]
     },
     "metadata": {},
     "output_type": "display_data"
    }
   ],
   "source": [
    "data2 = df_diamonds_train['depth']\n",
    "ax = data2.plot.hist(figsize=(12, 8))\n",
    "#ax.set_xlabel('Population (millions)')\n",
    "ax.set_xlabel('valor diamantes')\n",
    "plt.tight_layout()"
   ]
  },
  {
   "cell_type": "code",
   "execution_count": 173,
   "id": "8eaa7734-4aa4-478c-96b7-705f5431ec4f",
   "metadata": {},
   "outputs": [
    {
     "data": {
      "image/png": "[encoded data removed]",
      "text/plain": [
       "<Figure size 1200x800 with 1 Axes>"
      ]
     },
     "metadata": {},
     "output_type": "display_data"
    }
   ],
   "source": [
    "# Density plot calculated from data using a kernel density estimate implementation (area under the curve == 1)\n",
    "ax = data2.plot.hist(density=True,\n",
    "                    #xlim=[0, 12], \n",
    "                    #bins=range(1,12),\n",
    "                    figsize=(12, 8))\n",
    "data2.plot.density(ax=ax)\n",
    "#ax.set_xlabel('Population (millions)')\n",
    "ax.set_xlabel('valor diamantes')\n",
    "plt.tight_layout()"
   ]
  },
  {
   "cell_type": "code",
   "execution_count": 174,
   "id": "c49791c7-e6bf-4fc4-94d3-fae2476fdd6b",
   "metadata": {},
   "outputs": [
    {
     "data": {
      "image/png": "[encoded data removed]",
      "text/plain": [
       "<Figure size 500x800 with 1 Axes>"
      ]
     },
     "metadata": {},
     "output_type": "display_data"
    }
   ],
   "source": [
    "data3 = df_diamonds_train['table']\n",
    "ax = data3.plot.box(figsize=(5, 8))\n",
    "ax.set_ylabel('diamantes')\n",
    "plt.tight_layout()\n",
    "plt.grid()\n",
    "plt.show()"
   ]
  },
  {
   "cell_type": "code",
   "execution_count": 175,
   "id": "249ed76e-0dc8-40ad-a28d-6cd82f87405a",
   "metadata": {},
   "outputs": [
    {
     "data": {
      "image/png": "[encoded data removed]",
      "text/plain": [
       "<Figure size 1200x800 with 1 Axes>"
      ]
     },
     "metadata": {},
     "output_type": "display_data"
    }
   ],
   "source": [
    "data3 = df_diamonds_train['table']\n",
    "ax = data3.plot.hist(figsize=(12, 8))\n",
    "#ax.set_xlabel('Population (millions)')\n",
    "ax.set_xlabel('valor diamantes')\n",
    "plt.tight_layout()"
   ]
  },
  {
   "cell_type": "code",
   "execution_count": 176,
   "id": "5675e4c6-4c85-4705-96fd-cbd5faacc8e9",
   "metadata": {},
   "outputs": [
    {
     "data": {
      "image/png": "[encoded data removed]",
      "text/plain": [
       "<Figure size 1200x800 with 1 Axes>"
      ]
     },
     "metadata": {},
     "output_type": "display_data"
    }
   ],
   "source": [
    "# Density plot calculated from data using a kernel density estimate implementation (area under the curve == 1)\n",
    "ax = data3.plot.hist(density=True,\n",
    "                    #xlim=[0, 12], \n",
    "                    #bins=range(1,12),\n",
    "                    figsize=(12, 8))\n",
    "data3.plot.density(ax=ax)\n",
    "#ax.set_xlabel('Population (millions)')\n",
    "ax.set_xlabel('valor diamantes')\n",
    "plt.tight_layout()"
   ]
  }
 ],
 "metadata": {
  "kernelspec": {
   "display_name": "Python (mod2-env)",
   "language": "python",
   "name": "mod2-env"
  },
  "language_info": {
   "codemirror_mode": {
    "name": "ipython",
    "version": 3
   },
   "file_extension": ".py",
   "mimetype": "text/x-python",
   "name": "python",
   "nbconvert_exporter": "python",
   "pygments_lexer": "ipython3",
   "version": "3.10.15"
  }
 },
 "nbformat": 4,
 "nbformat_minor": 5
}
